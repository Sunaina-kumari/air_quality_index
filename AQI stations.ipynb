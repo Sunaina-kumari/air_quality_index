{
 "cells": [
  {
   "cell_type": "code",
   "execution_count": 1,
   "id": "53c76d2e",
   "metadata": {},
   "outputs": [],
   "source": [
    "import pandas as pd\n",
    "import numpy as np\n",
    "import seaborn as sns\n",
    "import matplotlib.pyplot as plt\n",
    "from nltk import *"
   ]
  },
  {
   "cell_type": "code",
   "execution_count": 2,
   "id": "82ce5b69",
   "metadata": {},
   "outputs": [],
   "source": [
    "from datetime import datetime\n",
    "import calendar"
   ]
  },
  {
   "cell_type": "code",
   "execution_count": 4,
   "id": "6b6c2c9c",
   "metadata": {},
   "outputs": [
    {
     "data": {
      "text/html": [
       "<div>\n",
       "<style scoped>\n",
       "    .dataframe tbody tr th:only-of-type {\n",
       "        vertical-align: middle;\n",
       "    }\n",
       "\n",
       "    .dataframe tbody tr th {\n",
       "        vertical-align: top;\n",
       "    }\n",
       "\n",
       "    .dataframe thead th {\n",
       "        text-align: right;\n",
       "    }\n",
       "</style>\n",
       "<table border=\"1\" class=\"dataframe\">\n",
       "  <thead>\n",
       "    <tr style=\"text-align: right;\">\n",
       "      <th></th>\n",
       "      <th>StationId</th>\n",
       "      <th>StationName</th>\n",
       "      <th>City</th>\n",
       "      <th>State</th>\n",
       "      <th>Status</th>\n",
       "    </tr>\n",
       "  </thead>\n",
       "  <tbody>\n",
       "    <tr>\n",
       "      <th>0</th>\n",
       "      <td>AP001</td>\n",
       "      <td>Secretariat, Amaravati - APPCB</td>\n",
       "      <td>Amaravati</td>\n",
       "      <td>Andhra Pradesh</td>\n",
       "      <td>Active</td>\n",
       "    </tr>\n",
       "    <tr>\n",
       "      <th>1</th>\n",
       "      <td>AP002</td>\n",
       "      <td>Anand Kala Kshetram, Rajamahendravaram - APPCB</td>\n",
       "      <td>Rajamahendravaram</td>\n",
       "      <td>Andhra Pradesh</td>\n",
       "      <td>NaN</td>\n",
       "    </tr>\n",
       "    <tr>\n",
       "      <th>2</th>\n",
       "      <td>AP003</td>\n",
       "      <td>Tirumala, Tirupati - APPCB</td>\n",
       "      <td>Tirupati</td>\n",
       "      <td>Andhra Pradesh</td>\n",
       "      <td>NaN</td>\n",
       "    </tr>\n",
       "    <tr>\n",
       "      <th>3</th>\n",
       "      <td>AP004</td>\n",
       "      <td>PWD Grounds, Vijayawada - APPCB</td>\n",
       "      <td>Vijayawada</td>\n",
       "      <td>Andhra Pradesh</td>\n",
       "      <td>NaN</td>\n",
       "    </tr>\n",
       "    <tr>\n",
       "      <th>4</th>\n",
       "      <td>AP005</td>\n",
       "      <td>GVM Corporation, Visakhapatnam - APPCB</td>\n",
       "      <td>Visakhapatnam</td>\n",
       "      <td>Andhra Pradesh</td>\n",
       "      <td>Active</td>\n",
       "    </tr>\n",
       "    <tr>\n",
       "      <th>...</th>\n",
       "      <td>...</td>\n",
       "      <td>...</td>\n",
       "      <td>...</td>\n",
       "      <td>...</td>\n",
       "      <td>...</td>\n",
       "    </tr>\n",
       "    <tr>\n",
       "      <th>225</th>\n",
       "      <td>WB010</td>\n",
       "      <td>Jadavpur, Kolkata - WBPCB</td>\n",
       "      <td>Kolkata</td>\n",
       "      <td>West Bengal</td>\n",
       "      <td>Active</td>\n",
       "    </tr>\n",
       "    <tr>\n",
       "      <th>226</th>\n",
       "      <td>WB011</td>\n",
       "      <td>Rabindra Bharati University, Kolkata - WBPCB</td>\n",
       "      <td>Kolkata</td>\n",
       "      <td>West Bengal</td>\n",
       "      <td>Active</td>\n",
       "    </tr>\n",
       "    <tr>\n",
       "      <th>227</th>\n",
       "      <td>WB012</td>\n",
       "      <td>Rabindra Sarobar, Kolkata - WBPCB</td>\n",
       "      <td>Kolkata</td>\n",
       "      <td>West Bengal</td>\n",
       "      <td>Active</td>\n",
       "    </tr>\n",
       "    <tr>\n",
       "      <th>228</th>\n",
       "      <td>WB013</td>\n",
       "      <td>Victoria, Kolkata - WBPCB</td>\n",
       "      <td>Kolkata</td>\n",
       "      <td>West Bengal</td>\n",
       "      <td>Active</td>\n",
       "    </tr>\n",
       "    <tr>\n",
       "      <th>229</th>\n",
       "      <td>WB014</td>\n",
       "      <td>Ward-32 Bapupara, Siliguri - WBPCB</td>\n",
       "      <td>Siliguri</td>\n",
       "      <td>West Bengal</td>\n",
       "      <td>NaN</td>\n",
       "    </tr>\n",
       "  </tbody>\n",
       "</table>\n",
       "<p>230 rows × 5 columns</p>\n",
       "</div>"
      ],
      "text/plain": [
       "    StationId                                     StationName  \\\n",
       "0       AP001                  Secretariat, Amaravati - APPCB   \n",
       "1       AP002  Anand Kala Kshetram, Rajamahendravaram - APPCB   \n",
       "2       AP003                      Tirumala, Tirupati - APPCB   \n",
       "3       AP004                 PWD Grounds, Vijayawada - APPCB   \n",
       "4       AP005          GVM Corporation, Visakhapatnam - APPCB   \n",
       "..        ...                                             ...   \n",
       "225     WB010                       Jadavpur, Kolkata - WBPCB   \n",
       "226     WB011    Rabindra Bharati University, Kolkata - WBPCB   \n",
       "227     WB012               Rabindra Sarobar, Kolkata - WBPCB   \n",
       "228     WB013                       Victoria, Kolkata - WBPCB   \n",
       "229     WB014              Ward-32 Bapupara, Siliguri - WBPCB   \n",
       "\n",
       "                  City           State  Status  \n",
       "0            Amaravati  Andhra Pradesh  Active  \n",
       "1    Rajamahendravaram  Andhra Pradesh     NaN  \n",
       "2             Tirupati  Andhra Pradesh     NaN  \n",
       "3           Vijayawada  Andhra Pradesh     NaN  \n",
       "4        Visakhapatnam  Andhra Pradesh  Active  \n",
       "..                 ...             ...     ...  \n",
       "225            Kolkata     West Bengal  Active  \n",
       "226            Kolkata     West Bengal  Active  \n",
       "227            Kolkata     West Bengal  Active  \n",
       "228            Kolkata     West Bengal  Active  \n",
       "229           Siliguri     West Bengal     NaN  \n",
       "\n",
       "[230 rows x 5 columns]"
      ]
     },
     "execution_count": 4,
     "metadata": {},
     "output_type": "execute_result"
    }
   ],
   "source": [
    "a=pd.read_csv('stations.csv')\n",
    "a"
   ]
  },
  {
   "cell_type": "code",
   "execution_count": 5,
   "id": "6a4fe167",
   "metadata": {},
   "outputs": [
    {
     "data": {
      "text/plain": [
       "StationId       0\n",
       "StationName     0\n",
       "City            0\n",
       "State           0\n",
       "Status         97\n",
       "dtype: int64"
      ]
     },
     "execution_count": 5,
     "metadata": {},
     "output_type": "execute_result"
    }
   ],
   "source": [
    "a.isnull().sum()"
   ]
  },
  {
   "cell_type": "code",
   "execution_count": 6,
   "id": "e7f4e05b",
   "metadata": {},
   "outputs": [
    {
     "data": {
      "text/plain": [
       "array(['AP001', 'AP002', 'AP003', 'AP004', 'AP005', 'AS001', 'BR001',\n",
       "       'BR002', 'BR003', 'BR004', 'BR005', 'BR006', 'BR007', 'BR008',\n",
       "       'BR009', 'BR010', 'CH001', 'DL001', 'DL002', 'DL003', 'DL004',\n",
       "       'DL005', 'DL006', 'DL007', 'DL008', 'DL009', 'DL010', 'DL011',\n",
       "       'DL012', 'DL013', 'DL014', 'DL015', 'DL016', 'DL017', 'DL018',\n",
       "       'DL019', 'DL020', 'DL021', 'DL022', 'DL023', 'DL024', 'DL025',\n",
       "       'DL026', 'DL027', 'DL028', 'DL029', 'DL030', 'DL031', 'DL032',\n",
       "       'DL033', 'DL034', 'DL035', 'DL036', 'DL037', 'DL038', 'GJ001',\n",
       "       'GJ002', 'GJ003', 'GJ004', 'GJ005', 'GJ006', 'HR001', 'HR002',\n",
       "       'HR003', 'HR004', 'HR005', 'HR006', 'HR007', 'HR008', 'HR009',\n",
       "       'HR010', 'HR011', 'HR012', 'HR013', 'HR014', 'HR015', 'HR016',\n",
       "       'HR017', 'HR018', 'HR019', 'HR020', 'HR021', 'HR022', 'HR023',\n",
       "       'HR024', 'HR025', 'HR026', 'HR027', 'HR028', 'HR029', 'JH001',\n",
       "       'KA001', 'KA002', 'KA003', 'KA004', 'KA005', 'KA006', 'KA007',\n",
       "       'KA008', 'KA009', 'KA010', 'KA011', 'KA012', 'KA013', 'KA014',\n",
       "       'KA015', 'KA016', 'KA017', 'KA018', 'KA019', 'KA020', 'KL001',\n",
       "       'KL002', 'KL003', 'KL004', 'KL005', 'KL006', 'KL007', 'KL008',\n",
       "       'MP001', 'MP002', 'MP003', 'MP004', 'MP005', 'MP006', 'MP007',\n",
       "       'MP008', 'MP009', 'MP010', 'MP011', 'MP012', 'MP013', 'MP014',\n",
       "       'MP015', 'MP016', 'MH001', 'MH002', 'MH003', 'MH004', 'MH005',\n",
       "       'MH006', 'MH007', 'MH008', 'MH009', 'MH010', 'MH011', 'MH012',\n",
       "       'MH013', 'MH014', 'MH015', 'MH016', 'MH017', 'MH018', 'MH019',\n",
       "       'MH020', 'MH021', 'MH022', 'ML001', 'MZ001', 'OD001', 'OD002',\n",
       "       'PB001', 'PB002', 'PB003', 'PB004', 'PB005', 'PB006', 'PB007',\n",
       "       'PB008', 'RJ001', 'RJ002', 'RJ003', 'RJ004', 'RJ005', 'RJ006',\n",
       "       'RJ007', 'RJ008', 'RJ009', 'RJ010', 'TN001', 'TN002', 'TN003',\n",
       "       'TN004', 'TN005', 'TG001', 'TG002', 'TG003', 'TG004', 'TG005',\n",
       "       'TG006', 'UP001', 'UP002', 'UP003', 'UP004', 'UP005', 'UP006',\n",
       "       'UP007', 'UP008', 'UP009', 'UP010', 'UP011', 'UP012', 'UP013',\n",
       "       'UP014', 'UP015', 'UP016', 'UP017', 'UP018', 'UP019', 'UP020',\n",
       "       'UP021', 'UP022', 'UP023', 'UP024', 'UP025', 'UP026', 'WB001',\n",
       "       'WB002', 'WB003', 'WB004', 'WB005', 'WB006', 'WB007', 'WB008',\n",
       "       'WB009', 'WB010', 'WB011', 'WB012', 'WB013', 'WB014'], dtype=object)"
      ]
     },
     "execution_count": 6,
     "metadata": {},
     "output_type": "execute_result"
    }
   ],
   "source": [
    "a['StationId'].unique()"
   ]
  },
  {
   "cell_type": "code",
   "execution_count": null,
   "id": "f60b9c7e",
   "metadata": {},
   "outputs": [],
   "source": []
  }
 ],
 "metadata": {
  "kernelspec": {
   "display_name": "Python 3 (ipykernel)",
   "language": "python",
   "name": "python3"
  },
  "language_info": {
   "codemirror_mode": {
    "name": "ipython",
    "version": 3
   },
   "file_extension": ".py",
   "mimetype": "text/x-python",
   "name": "python",
   "nbconvert_exporter": "python",
   "pygments_lexer": "ipython3",
   "version": "3.10.7"
  }
 },
 "nbformat": 4,
 "nbformat_minor": 5
}
